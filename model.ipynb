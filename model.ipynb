{
  "nbformat": 4,
  "nbformat_minor": 0,
  "metadata": {
    "colab": {
      "provenance": [],
      "gpuType": "T4"
    },
    "kernelspec": {
      "name": "python3",
      "display_name": "Python 3"
    },
    "language_info": {
      "name": "python"
    },
    "accelerator": "GPU"
  },
  "cells": [
    {
      "cell_type": "code",
      "source": [
        "import torch\n",
        "import torchvision"
      ],
      "metadata": {
        "id": "Iy9M3hc8XjMV"
      },
      "execution_count": 13,
      "outputs": []
    },
    {
      "cell_type": "code",
      "source": [
        "n_epochs = 3\n",
        "batch_size_train = 64\n",
        "batch_size_test = 1000\n",
        "learning_rate = 0.01\n",
        "momentum = 0.5\n",
        "log_interval = 10\n",
        "\n",
        "random_seed = 1\n",
        "torch.backends.cudnn.enabled = False\n",
        "torch.manual_seed(random_seed)"
      ],
      "metadata": {
        "colab": {
          "base_uri": "https://localhost:8080/"
        },
        "id": "3N7p5ZTBaLlu",
        "outputId": "a70b7d8e-7ede-4695-bd10-a528f4ce2587"
      },
      "execution_count": 14,
      "outputs": [
        {
          "output_type": "execute_result",
          "data": {
            "text/plain": [
              "<torch._C.Generator at 0x7db0f0772830>"
            ]
          },
          "metadata": {},
          "execution_count": 14
        }
      ]
    },
    {
      "cell_type": "code",
      "source": [
        "train_loader = torch.utils.data.DataLoader(\n",
        "  torchvision.datasets.MNIST('/content/files', train=True, download=True,\n",
        "                             transform=torchvision.transforms.Compose([\n",
        "                               torchvision.transforms.ToTensor(),\n",
        "                               torchvision.transforms.Normalize(\n",
        "                                 (0.1307,), (0.3081,))\n",
        "                             ])),\n",
        "  batch_size=batch_size_train, shuffle=True)\n",
        "\n",
        "test_loader = torch.utils.data.DataLoader(\n",
        "  torchvision.datasets.MNIST('/content/files', train=False, download=True,\n",
        "                             transform=torchvision.transforms.Compose([\n",
        "                               torchvision.transforms.ToTensor(),\n",
        "                               torchvision.transforms.Normalize(\n",
        "                                 (0.1307,), (0.3081,))\n",
        "                             ])),\n",
        "  batch_size=batch_size_test, shuffle=True)"
      ],
      "metadata": {
        "colab": {
          "base_uri": "https://localhost:8080/"
        },
        "id": "JB4ClPETaOLe",
        "outputId": "12364481-7faf-4b96-fb72-68c8cba4aaeb"
      },
      "execution_count": 27,
      "outputs": [
        {
          "output_type": "stream",
          "name": "stdout",
          "text": [
            "Downloading http://yann.lecun.com/exdb/mnist/train-images-idx3-ubyte.gz\n",
            "Failed to download (trying next):\n",
            "HTTP Error 403: Forbidden\n",
            "\n",
            "Downloading https://ossci-datasets.s3.amazonaws.com/mnist/train-images-idx3-ubyte.gz\n",
            "Downloading https://ossci-datasets.s3.amazonaws.com/mnist/train-images-idx3-ubyte.gz to /content/files/MNIST/raw/train-images-idx3-ubyte.gz\n"
          ]
        },
        {
          "output_type": "stream",
          "name": "stderr",
          "text": [
            "100%|██████████| 9912422/9912422 [00:00<00:00, 53070994.88it/s]\n"
          ]
        },
        {
          "output_type": "stream",
          "name": "stdout",
          "text": [
            "Extracting /content/files/MNIST/raw/train-images-idx3-ubyte.gz to /content/files/MNIST/raw\n",
            "\n",
            "Downloading http://yann.lecun.com/exdb/mnist/train-labels-idx1-ubyte.gz\n",
            "Failed to download (trying next):\n",
            "HTTP Error 403: Forbidden\n",
            "\n",
            "Downloading https://ossci-datasets.s3.amazonaws.com/mnist/train-labels-idx1-ubyte.gz\n",
            "Downloading https://ossci-datasets.s3.amazonaws.com/mnist/train-labels-idx1-ubyte.gz to /content/files/MNIST/raw/train-labels-idx1-ubyte.gz\n"
          ]
        },
        {
          "output_type": "stream",
          "name": "stderr",
          "text": [
            "100%|██████████| 28881/28881 [00:00<00:00, 1751857.55it/s]\n"
          ]
        },
        {
          "output_type": "stream",
          "name": "stdout",
          "text": [
            "Extracting /content/files/MNIST/raw/train-labels-idx1-ubyte.gz to /content/files/MNIST/raw\n",
            "\n",
            "Downloading http://yann.lecun.com/exdb/mnist/t10k-images-idx3-ubyte.gz\n",
            "Failed to download (trying next):\n",
            "HTTP Error 403: Forbidden\n",
            "\n",
            "Downloading https://ossci-datasets.s3.amazonaws.com/mnist/t10k-images-idx3-ubyte.gz\n",
            "Downloading https://ossci-datasets.s3.amazonaws.com/mnist/t10k-images-idx3-ubyte.gz to /content/files/MNIST/raw/t10k-images-idx3-ubyte.gz\n"
          ]
        },
        {
          "output_type": "stream",
          "name": "stderr",
          "text": [
            "100%|██████████| 1648877/1648877 [00:00<00:00, 14433064.25it/s]\n"
          ]
        },
        {
          "output_type": "stream",
          "name": "stdout",
          "text": [
            "Extracting /content/files/MNIST/raw/t10k-images-idx3-ubyte.gz to /content/files/MNIST/raw\n",
            "\n",
            "Downloading http://yann.lecun.com/exdb/mnist/t10k-labels-idx1-ubyte.gz\n",
            "Failed to download (trying next):\n",
            "HTTP Error 403: Forbidden\n",
            "\n",
            "Downloading https://ossci-datasets.s3.amazonaws.com/mnist/t10k-labels-idx1-ubyte.gz\n",
            "Downloading https://ossci-datasets.s3.amazonaws.com/mnist/t10k-labels-idx1-ubyte.gz to /content/files/MNIST/raw/t10k-labels-idx1-ubyte.gz\n"
          ]
        },
        {
          "output_type": "stream",
          "name": "stderr",
          "text": [
            "100%|██████████| 4542/4542 [00:00<00:00, 1962555.76it/s]"
          ]
        },
        {
          "output_type": "stream",
          "name": "stdout",
          "text": [
            "Extracting /content/files/MNIST/raw/t10k-labels-idx1-ubyte.gz to /content/files/MNIST/raw\n",
            "\n"
          ]
        },
        {
          "output_type": "stream",
          "name": "stderr",
          "text": [
            "\n"
          ]
        }
      ]
    },
    {
      "cell_type": "code",
      "source": [
        "examples = enumerate(test_loader)\n",
        "batch_idx, (example_data, example_targets) = next(examples)"
      ],
      "metadata": {
        "id": "DXt7L0OYaTvm"
      },
      "execution_count": 28,
      "outputs": []
    },
    {
      "cell_type": "code",
      "source": [
        "example_data.shape"
      ],
      "metadata": {
        "colab": {
          "base_uri": "https://localhost:8080/"
        },
        "id": "U0ntawQlagY3",
        "outputId": "6aecff18-7563-4848-a41b-e167dbd8f51a"
      },
      "execution_count": 29,
      "outputs": [
        {
          "output_type": "execute_result",
          "data": {
            "text/plain": [
              "torch.Size([1000, 1, 28, 28])"
            ]
          },
          "metadata": {},
          "execution_count": 29
        }
      ]
    },
    {
      "cell_type": "code",
      "source": [
        "import matplotlib.pyplot as plt\n",
        "\n",
        "fig = plt.figure()\n",
        "for i in range(6):\n",
        "  plt.subplot(2,3,i+1)\n",
        "  plt.tight_layout()\n",
        "  plt.imshow(example_data[i][0], cmap='gray', interpolation='none')\n",
        "  plt.title(\"Ground Truth: {}\".format(example_targets[i]))\n",
        "  plt.xticks([])\n",
        "  plt.yticks([])\n",
        "fig"
      ],
      "metadata": {
        "colab": {
          "base_uri": "https://localhost:8080/",
          "height": 859
        },
        "id": "Dzh0NUgcahz_",
        "outputId": "a0a4909c-8212-4b18-f36f-313aace63f4d"
      },
      "execution_count": 30,
      "outputs": [
        {
          "output_type": "execute_result",
          "data": {
            "text/plain": [
              "<Figure size 640x480 with 6 Axes>"
            ],
            "image/png": "[encoded data removed]"
          },
          "metadata": {},
          "execution_count": 30
        },
        {
          "output_type": "display_data",
          "data": {
            "text/plain": [
              "<Figure size 640x480 with 6 Axes>"
            ],
            "image/png": "[encoded data removed]"
          },
          "metadata": {}
        }
      ]
    },
    {
      "cell_type": "code",
      "source": [
        "import torch.nn as nn\n",
        "import torch.nn.functional as F\n",
        "import torch.optim as optim"
      ],
      "metadata": {
        "id": "-45z-bS_akaW"
      },
      "execution_count": 19,
      "outputs": []
    },
    {
      "cell_type": "code",
      "source": [
        "class Net(nn.Module):\n",
        "    def __init__(self):\n",
        "        super(Net, self).__init__()\n",
        "        self.conv1 = nn.Conv2d(1, 10, kernel_size=5)\n",
        "        self.conv2 = nn.Conv2d(10, 20, kernel_size=5)\n",
        "        self.conv2_drop = nn.Dropout2d()\n",
        "        self.fc1 = nn.Linear(320, 50)\n",
        "        self.fc2 = nn.Linear(50, 10)\n",
        "\n",
        "    def forward(self, x):\n",
        "        x = F.relu(F.max_pool2d(self.conv1(x), 2))\n",
        "        x = F.relu(F.max_pool2d(self.conv2_drop(self.conv2(x)), 2))\n",
        "        x = x.view(-1, 320)\n",
        "        x = F.relu(self.fc1(x))\n",
        "        x = F.dropout(x, training=self.training)\n",
        "        x = self.fc2(x)\n",
        "        return F.log_softmax(x)"
      ],
      "metadata": {
        "id": "WqfSbNaqaq0p"
      },
      "execution_count": 20,
      "outputs": []
    },
    {
      "cell_type": "code",
      "source": [
        "network = Net()\n",
        "optimizer = optim.SGD(network.parameters(), lr=learning_rate,\n",
        "                      momentum=momentum)"
      ],
      "metadata": {
        "id": "M84qi3DAase-"
      },
      "execution_count": 21,
      "outputs": []
    },
    {
      "cell_type": "code",
      "source": [
        "train_losses = []\n",
        "train_counter = []\n",
        "test_losses = []\n",
        "test_counter = [i*len(train_loader.dataset) for i in range(n_epochs + 1)]"
      ],
      "metadata": {
        "id": "ratXOLKdauQv"
      },
      "execution_count": 22,
      "outputs": []
    },
    {
      "cell_type": "code",
      "source": [
        "def train(epoch):\n",
        "  network.train()\n",
        "  for batch_idx, (data, target) in enumerate(train_loader):\n",
        "    optimizer.zero_grad()\n",
        "    output = network(data)\n",
        "    loss = F.nll_loss(output, target)\n",
        "    loss.backward()\n",
        "    optimizer.step()\n",
        "    if batch_idx % log_interval == 0:\n",
        "      print('Train Epoch: {} [{}/{} ({:.0f}%)]\\tLoss: {:.6f}'.format(\n",
        "        epoch, batch_idx * len(data), len(train_loader.dataset),\n",
        "        100. * batch_idx / len(train_loader), loss.item()))\n",
        "      train_losses.append(loss.item())\n",
        "      train_counter.append(\n",
        "        (batch_idx*64) + ((epoch-1)*len(train_loader.dataset)))\n",
        "      torch.save(network.state_dict(), '/content/results/model.pth')\n",
        "      torch.save(optimizer.state_dict(), '/content/results/optimizer.pth')"
      ],
      "metadata": {
        "id": "xBqvmf4Sav7n"
      },
      "execution_count": 31,
      "outputs": []
    },
    {
      "cell_type": "code",
      "source": [
        "def test():\n",
        "  network.eval()\n",
        "  test_loss = 0\n",
        "  correct = 0\n",
        "  with torch.no_grad():\n",
        "    for data, target in test_loader:\n",
        "      output = network(data)\n",
        "      test_loss += F.nll_loss(output, target, size_average=False).item()\n",
        "      pred = output.data.max(1, keepdim=True)[1]\n",
        "      correct += pred.eq(target.data.view_as(pred)).sum()\n",
        "  test_loss /= len(test_loader.dataset)\n",
        "  test_losses.append(test_loss)\n",
        "  print('\\nTest set: Avg. loss: {:.4f}, Accuracy: {}/{} ({:.0f}%)\\n'.format(\n",
        "    test_loss, correct, len(test_loader.dataset),\n",
        "    100. * correct / len(test_loader.dataset)))"
      ],
      "metadata": {
        "id": "a_QNAiJIaxre"
      },
      "execution_count": 32,
      "outputs": []
    },
    {
      "cell_type": "code",
      "source": [
        "test()\n",
        "for epoch in range(1, n_epochs + 1):\n",
        "  train(epoch)\n",
        "  test()"
      ],
      "metadata": {
        "colab": {
          "base_uri": "https://localhost:8080/"
        },
        "id": "DjaEZyRBazoI",
        "outputId": "6888dcc4-7b78-40e8-c5e7-36d3a563fb9d"
      },
      "execution_count": 33,
      "outputs": [
        {
          "output_type": "stream",
          "name": "stderr",
          "text": [
            "<ipython-input-20-6c2218f37724>:17: UserWarning: Implicit dimension choice for log_softmax has been deprecated. Change the call to include dim=X as an argument.\n",
            "  return F.log_softmax(x)\n"
          ]
        },
        {
          "output_type": "stream",
          "name": "stdout",
          "text": [
            "\n",
            "Test set: Avg. loss: 2.3084, Accuracy: 923/10000 (9%)\n",
            "\n",
            "Train Epoch: 1 [0/60000 (0%)]\tLoss: 2.334212\n",
            "Train Epoch: 1 [640/60000 (1%)]\tLoss: 2.275436\n",
            "Train Epoch: 1 [1280/60000 (2%)]\tLoss: 2.303655\n",
            "Train Epoch: 1 [1920/60000 (3%)]\tLoss: 2.272551\n",
            "Train Epoch: 1 [2560/60000 (4%)]\tLoss: 2.280342\n",
            "Train Epoch: 1 [3200/60000 (5%)]\tLoss: 2.221077\n",
            "Train Epoch: 1 [3840/60000 (6%)]\tLoss: 2.218500\n",
            "Train Epoch: 1 [4480/60000 (7%)]\tLoss: 2.137769\n",
            "Train Epoch: 1 [5120/60000 (9%)]\tLoss: 2.132838\n",
            "Train Epoch: 1 [5760/60000 (10%)]\tLoss: 2.037740\n",
            "Train Epoch: 1 [6400/60000 (11%)]\tLoss: 2.121138\n",
            "Train Epoch: 1 [7040/60000 (12%)]\tLoss: 1.730512\n",
            "Train Epoch: 1 [7680/60000 (13%)]\tLoss: 1.755080\n",
            "Train Epoch: 1 [8320/60000 (14%)]\tLoss: 1.638952\n",
            "Train Epoch: 1 [8960/60000 (15%)]\tLoss: 1.453555\n",
            "Train Epoch: 1 [9600/60000 (16%)]\tLoss: 1.281588\n",
            "Train Epoch: 1 [10240/60000 (17%)]\tLoss: 1.234512\n",
            "Train Epoch: 1 [10880/60000 (18%)]\tLoss: 1.168217\n",
            "Train Epoch: 1 [11520/60000 (19%)]\tLoss: 1.356315\n",
            "Train Epoch: 1 [12160/60000 (20%)]\tLoss: 1.008693\n",
            "Train Epoch: 1 [12800/60000 (21%)]\tLoss: 0.973231\n",
            "Train Epoch: 1 [13440/60000 (22%)]\tLoss: 0.904928\n",
            "Train Epoch: 1 [14080/60000 (23%)]\tLoss: 0.925625\n",
            "Train Epoch: 1 [14720/60000 (25%)]\tLoss: 1.222192\n",
            "Train Epoch: 1 [15360/60000 (26%)]\tLoss: 1.030289\n",
            "Train Epoch: 1 [16000/60000 (27%)]\tLoss: 0.854520\n",
            "Train Epoch: 1 [16640/60000 (28%)]\tLoss: 0.903221\n",
            "Train Epoch: 1 [17280/60000 (29%)]\tLoss: 0.881851\n",
            "Train Epoch: 1 [17920/60000 (30%)]\tLoss: 0.878519\n",
            "Train Epoch: 1 [18560/60000 (31%)]\tLoss: 0.793249\n",
            "Train Epoch: 1 [19200/60000 (32%)]\tLoss: 0.754971\n",
            "Train Epoch: 1 [19840/60000 (33%)]\tLoss: 0.736890\n",
            "Train Epoch: 1 [20480/60000 (34%)]\tLoss: 0.846603\n",
            "Train Epoch: 1 [21120/60000 (35%)]\tLoss: 0.740286\n",
            "Train Epoch: 1 [21760/60000 (36%)]\tLoss: 0.784745\n",
            "Train Epoch: 1 [22400/60000 (37%)]\tLoss: 0.630157\n",
            "Train Epoch: 1 [23040/60000 (38%)]\tLoss: 0.771360\n",
            "Train Epoch: 1 [23680/60000 (39%)]\tLoss: 0.748682\n",
            "Train Epoch: 1 [24320/60000 (41%)]\tLoss: 0.760956\n",
            "Train Epoch: 1 [24960/60000 (42%)]\tLoss: 0.704334\n",
            "Train Epoch: 1 [25600/60000 (43%)]\tLoss: 1.077213\n",
            "Train Epoch: 1 [26240/60000 (44%)]\tLoss: 0.643645\n",
            "Train Epoch: 1 [26880/60000 (45%)]\tLoss: 0.491446\n",
            "Train Epoch: 1 [27520/60000 (46%)]\tLoss: 0.663335\n",
            "Train Epoch: 1 [28160/60000 (47%)]\tLoss: 1.026986\n",
            "Train Epoch: 1 [28800/60000 (48%)]\tLoss: 0.513360\n",
            "Train Epoch: 1 [29440/60000 (49%)]\tLoss: 0.612807\n",
            "Train Epoch: 1 [30080/60000 (50%)]\tLoss: 0.770898\n",
            "Train Epoch: 1 [30720/60000 (51%)]\tLoss: 0.719998\n",
            "Train Epoch: 1 [31360/60000 (52%)]\tLoss: 0.502109\n",
            "Train Epoch: 1 [32000/60000 (53%)]\tLoss: 0.652950\n",
            "Train Epoch: 1 [32640/60000 (54%)]\tLoss: 0.827572\n",
            "Train Epoch: 1 [33280/60000 (55%)]\tLoss: 0.456637\n",
            "Train Epoch: 1 [33920/60000 (57%)]\tLoss: 0.687306\n",
            "Train Epoch: 1 [34560/60000 (58%)]\tLoss: 0.558108\n",
            "Train Epoch: 1 [35200/60000 (59%)]\tLoss: 0.467070\n",
            "Train Epoch: 1 [35840/60000 (60%)]\tLoss: 0.747293\n",
            "Train Epoch: 1 [36480/60000 (61%)]\tLoss: 0.726597\n",
            "Train Epoch: 1 [37120/60000 (62%)]\tLoss: 0.638129\n",
            "Train Epoch: 1 [37760/60000 (63%)]\tLoss: 0.689116\n",
            "Train Epoch: 1 [38400/60000 (64%)]\tLoss: 0.681009\n",
            "Train Epoch: 1 [39040/60000 (65%)]\tLoss: 0.464819\n",
            "Train Epoch: 1 [39680/60000 (66%)]\tLoss: 0.426764\n",
            "Train Epoch: 1 [40320/60000 (67%)]\tLoss: 0.304850\n",
            "Train Epoch: 1 [40960/60000 (68%)]\tLoss: 0.425448\n",
            "Train Epoch: 1 [41600/60000 (69%)]\tLoss: 0.717659\n",
            "Train Epoch: 1 [42240/60000 (70%)]\tLoss: 0.503830\n",
            "Train Epoch: 1 [42880/60000 (71%)]\tLoss: 0.529173\n",
            "Train Epoch: 1 [43520/60000 (72%)]\tLoss: 0.474682\n",
            "Train Epoch: 1 [44160/60000 (74%)]\tLoss: 0.503817\n",
            "Train Epoch: 1 [44800/60000 (75%)]\tLoss: 0.425518\n",
            "Train Epoch: 1 [45440/60000 (76%)]\tLoss: 0.743830\n",
            "Train Epoch: 1 [46080/60000 (77%)]\tLoss: 0.371254\n",
            "Train Epoch: 1 [46720/60000 (78%)]\tLoss: 0.499108\n",
            "Train Epoch: 1 [47360/60000 (79%)]\tLoss: 0.534054\n",
            "Train Epoch: 1 [48000/60000 (80%)]\tLoss: 0.529517\n",
            "Train Epoch: 1 [48640/60000 (81%)]\tLoss: 0.395805\n",
            "Train Epoch: 1 [49280/60000 (82%)]\tLoss: 0.467093\n",
            "Train Epoch: 1 [49920/60000 (83%)]\tLoss: 0.518248\n",
            "Train Epoch: 1 [50560/60000 (84%)]\tLoss: 0.594146\n",
            "Train Epoch: 1 [51200/60000 (85%)]\tLoss: 0.397689\n",
            "Train Epoch: 1 [51840/60000 (86%)]\tLoss: 0.711501\n",
            "Train Epoch: 1 [52480/60000 (87%)]\tLoss: 0.469097\n",
            "Train Epoch: 1 [53120/60000 (88%)]\tLoss: 0.669819\n",
            "Train Epoch: 1 [53760/60000 (90%)]\tLoss: 0.468365\n",
            "Train Epoch: 1 [54400/60000 (91%)]\tLoss: 0.481536\n",
            "Train Epoch: 1 [55040/60000 (92%)]\tLoss: 0.531540\n",
            "Train Epoch: 1 [55680/60000 (93%)]\tLoss: 0.354466\n",
            "Train Epoch: 1 [56320/60000 (94%)]\tLoss: 0.361813\n",
            "Train Epoch: 1 [56960/60000 (95%)]\tLoss: 0.454089\n",
            "Train Epoch: 1 [57600/60000 (96%)]\tLoss: 0.738750\n",
            "Train Epoch: 1 [58240/60000 (97%)]\tLoss: 0.533636\n",
            "Train Epoch: 1 [58880/60000 (98%)]\tLoss: 0.662707\n",
            "Train Epoch: 1 [59520/60000 (99%)]\tLoss: 0.455881\n",
            "\n",
            "Test set: Avg. loss: 0.1847, Accuracy: 9464/10000 (95%)\n",
            "\n",
            "Train Epoch: 2 [0/60000 (0%)]\tLoss: 0.408320\n",
            "Train Epoch: 2 [640/60000 (1%)]\tLoss: 0.558795\n",
            "Train Epoch: 2 [1280/60000 (2%)]\tLoss: 0.756492\n",
            "Train Epoch: 2 [1920/60000 (3%)]\tLoss: 0.558548\n",
            "Train Epoch: 2 [2560/60000 (4%)]\tLoss: 0.270669\n",
            "Train Epoch: 2 [3200/60000 (5%)]\tLoss: 0.310177\n",
            "Train Epoch: 2 [3840/60000 (6%)]\tLoss: 0.397307\n",
            "Train Epoch: 2 [4480/60000 (7%)]\tLoss: 0.484677\n",
            "Train Epoch: 2 [5120/60000 (9%)]\tLoss: 0.242962\n",
            "Train Epoch: 2 [5760/60000 (10%)]\tLoss: 0.369602\n",
            "Train Epoch: 2 [6400/60000 (11%)]\tLoss: 0.240341\n",
            "Train Epoch: 2 [7040/60000 (12%)]\tLoss: 0.439549\n",
            "Train Epoch: 2 [7680/60000 (13%)]\tLoss: 0.484845\n",
            "Train Epoch: 2 [8320/60000 (14%)]\tLoss: 0.465960\n",
            "Train Epoch: 2 [8960/60000 (15%)]\tLoss: 0.295583\n",
            "Train Epoch: 2 [9600/60000 (16%)]\tLoss: 0.222528\n",
            "Train Epoch: 2 [10240/60000 (17%)]\tLoss: 0.318957\n",
            "Train Epoch: 2 [10880/60000 (18%)]\tLoss: 0.348215\n",
            "Train Epoch: 2 [11520/60000 (19%)]\tLoss: 0.390542\n",
            "Train Epoch: 2 [12160/60000 (20%)]\tLoss: 0.301407\n",
            "Train Epoch: 2 [12800/60000 (21%)]\tLoss: 0.348976\n",
            "Train Epoch: 2 [13440/60000 (22%)]\tLoss: 0.479731\n",
            "Train Epoch: 2 [14080/60000 (23%)]\tLoss: 0.374387\n",
            "Train Epoch: 2 [14720/60000 (25%)]\tLoss: 0.224450\n",
            "Train Epoch: 2 [15360/60000 (26%)]\tLoss: 0.507425\n",
            "Train Epoch: 2 [16000/60000 (27%)]\tLoss: 0.317560\n",
            "Train Epoch: 2 [16640/60000 (28%)]\tLoss: 0.327764\n",
            "Train Epoch: 2 [17280/60000 (29%)]\tLoss: 0.387878\n",
            "Train Epoch: 2 [17920/60000 (30%)]\tLoss: 0.362132\n",
            "Train Epoch: 2 [18560/60000 (31%)]\tLoss: 0.391748\n",
            "Train Epoch: 2 [19200/60000 (32%)]\tLoss: 0.322425\n",
            "Train Epoch: 2 [19840/60000 (33%)]\tLoss: 0.505733\n",
            "Train Epoch: 2 [20480/60000 (34%)]\tLoss: 0.517495\n",
            "Train Epoch: 2 [21120/60000 (35%)]\tLoss: 0.344614\n",
            "Train Epoch: 2 [21760/60000 (36%)]\tLoss: 0.205599\n",
            "Train Epoch: 2 [22400/60000 (37%)]\tLoss: 0.230748\n",
            "Train Epoch: 2 [23040/60000 (38%)]\tLoss: 0.458315\n",
            "Train Epoch: 2 [23680/60000 (39%)]\tLoss: 0.317315\n",
            "Train Epoch: 2 [24320/60000 (41%)]\tLoss: 0.451656\n",
            "Train Epoch: 2 [24960/60000 (42%)]\tLoss: 0.413704\n",
            "Train Epoch: 2 [25600/60000 (43%)]\tLoss: 0.326980\n",
            "Train Epoch: 2 [26240/60000 (44%)]\tLoss: 0.275504\n",
            "Train Epoch: 2 [26880/60000 (45%)]\tLoss: 0.525765\n",
            "Train Epoch: 2 [27520/60000 (46%)]\tLoss: 0.319476\n",
            "Train Epoch: 2 [28160/60000 (47%)]\tLoss: 0.353651\n",
            "Train Epoch: 2 [28800/60000 (48%)]\tLoss: 0.349997\n",
            "Train Epoch: 2 [29440/60000 (49%)]\tLoss: 0.463599\n",
            "Train Epoch: 2 [30080/60000 (50%)]\tLoss: 0.325753\n",
            "Train Epoch: 2 [30720/60000 (51%)]\tLoss: 0.349120\n",
            "Train Epoch: 2 [31360/60000 (52%)]\tLoss: 0.371873\n",
            "Train Epoch: 2 [32000/60000 (53%)]\tLoss: 0.254328\n",
            "Train Epoch: 2 [32640/60000 (54%)]\tLoss: 0.412449\n",
            "Train Epoch: 2 [33280/60000 (55%)]\tLoss: 0.617813\n",
            "Train Epoch: 2 [33920/60000 (57%)]\tLoss: 0.482581\n",
            "Train Epoch: 2 [34560/60000 (58%)]\tLoss: 0.519003\n",
            "Train Epoch: 2 [35200/60000 (59%)]\tLoss: 0.351862\n",
            "Train Epoch: 2 [35840/60000 (60%)]\tLoss: 0.280695\n",
            "Train Epoch: 2 [36480/60000 (61%)]\tLoss: 0.365091\n",
            "Train Epoch: 2 [37120/60000 (62%)]\tLoss: 0.525964\n",
            "Train Epoch: 2 [37760/60000 (63%)]\tLoss: 0.470366\n",
            "Train Epoch: 2 [38400/60000 (64%)]\tLoss: 0.360525\n",
            "Train Epoch: 2 [39040/60000 (65%)]\tLoss: 0.595659\n",
            "Train Epoch: 2 [39680/60000 (66%)]\tLoss: 0.417318\n",
            "Train Epoch: 2 [40320/60000 (67%)]\tLoss: 0.255890\n",
            "Train Epoch: 2 [40960/60000 (68%)]\tLoss: 0.309543\n",
            "Train Epoch: 2 [41600/60000 (69%)]\tLoss: 0.416417\n",
            "Train Epoch: 2 [42240/60000 (70%)]\tLoss: 0.307620\n",
            "Train Epoch: 2 [42880/60000 (71%)]\tLoss: 0.318283\n",
            "Train Epoch: 2 [43520/60000 (72%)]\tLoss: 0.374134\n",
            "Train Epoch: 2 [44160/60000 (74%)]\tLoss: 0.269703\n",
            "Train Epoch: 2 [44800/60000 (75%)]\tLoss: 0.357842\n",
            "Train Epoch: 2 [45440/60000 (76%)]\tLoss: 0.542609\n",
            "Train Epoch: 2 [46080/60000 (77%)]\tLoss: 0.335073\n",
            "Train Epoch: 2 [46720/60000 (78%)]\tLoss: 0.258841\n",
            "Train Epoch: 2 [47360/60000 (79%)]\tLoss: 0.383262\n",
            "Train Epoch: 2 [48000/60000 (80%)]\tLoss: 0.369048\n",
            "Train Epoch: 2 [48640/60000 (81%)]\tLoss: 0.264706\n",
            "Train Epoch: 2 [49280/60000 (82%)]\tLoss: 0.125727\n",
            "Train Epoch: 2 [49920/60000 (83%)]\tLoss: 0.159440\n",
            "Train Epoch: 2 [50560/60000 (84%)]\tLoss: 0.219486\n",
            "Train Epoch: 2 [51200/60000 (85%)]\tLoss: 0.165396\n",
            "Train Epoch: 2 [51840/60000 (86%)]\tLoss: 0.262885\n",
            "Train Epoch: 2 [52480/60000 (87%)]\tLoss: 0.298502\n",
            "Train Epoch: 2 [53120/60000 (88%)]\tLoss: 0.399071\n",
            "Train Epoch: 2 [53760/60000 (90%)]\tLoss: 0.521010\n",
            "Train Epoch: 2 [54400/60000 (91%)]\tLoss: 0.356836\n",
            "Train Epoch: 2 [55040/60000 (92%)]\tLoss: 0.371062\n",
            "Train Epoch: 2 [55680/60000 (93%)]\tLoss: 0.206436\n",
            "Train Epoch: 2 [56320/60000 (94%)]\tLoss: 0.195003\n",
            "Train Epoch: 2 [56960/60000 (95%)]\tLoss: 0.254518\n",
            "Train Epoch: 2 [57600/60000 (96%)]\tLoss: 0.192375\n",
            "Train Epoch: 2 [58240/60000 (97%)]\tLoss: 0.448202\n",
            "Train Epoch: 2 [58880/60000 (98%)]\tLoss: 0.307964\n",
            "Train Epoch: 2 [59520/60000 (99%)]\tLoss: 0.251531\n",
            "\n",
            "Test set: Avg. loss: 0.1199, Accuracy: 9619/10000 (96%)\n",
            "\n",
            "Train Epoch: 3 [0/60000 (0%)]\tLoss: 0.212030\n",
            "Train Epoch: 3 [640/60000 (1%)]\tLoss: 0.180665\n",
            "Train Epoch: 3 [1280/60000 (2%)]\tLoss: 0.320949\n",
            "Train Epoch: 3 [1920/60000 (3%)]\tLoss: 0.207681\n",
            "Train Epoch: 3 [2560/60000 (4%)]\tLoss: 0.363274\n",
            "Train Epoch: 3 [3200/60000 (5%)]\tLoss: 0.228111\n",
            "Train Epoch: 3 [3840/60000 (6%)]\tLoss: 0.370592\n",
            "Train Epoch: 3 [4480/60000 (7%)]\tLoss: 0.447579\n",
            "Train Epoch: 3 [5120/60000 (9%)]\tLoss: 0.157255\n",
            "Train Epoch: 3 [5760/60000 (10%)]\tLoss: 0.292880\n",
            "Train Epoch: 3 [6400/60000 (11%)]\tLoss: 0.353412\n",
            "Train Epoch: 3 [7040/60000 (12%)]\tLoss: 0.398143\n",
            "Train Epoch: 3 [7680/60000 (13%)]\tLoss: 0.181585\n",
            "Train Epoch: 3 [8320/60000 (14%)]\tLoss: 0.562362\n",
            "Train Epoch: 3 [8960/60000 (15%)]\tLoss: 0.301181\n",
            "Train Epoch: 3 [9600/60000 (16%)]\tLoss: 0.368560\n",
            "Train Epoch: 3 [10240/60000 (17%)]\tLoss: 0.512617\n",
            "Train Epoch: 3 [10880/60000 (18%)]\tLoss: 0.361781\n",
            "Train Epoch: 3 [11520/60000 (19%)]\tLoss: 0.167353\n",
            "Train Epoch: 3 [12160/60000 (20%)]\tLoss: 0.183629\n",
            "Train Epoch: 3 [12800/60000 (21%)]\tLoss: 0.132236\n",
            "Train Epoch: 3 [13440/60000 (22%)]\tLoss: 0.304186\n",
            "Train Epoch: 3 [14080/60000 (23%)]\tLoss: 0.426917\n",
            "Train Epoch: 3 [14720/60000 (25%)]\tLoss: 0.255209\n",
            "Train Epoch: 3 [15360/60000 (26%)]\tLoss: 0.212677\n",
            "Train Epoch: 3 [16000/60000 (27%)]\tLoss: 0.343331\n",
            "Train Epoch: 3 [16640/60000 (28%)]\tLoss: 0.482654\n",
            "Train Epoch: 3 [17280/60000 (29%)]\tLoss: 0.304127\n",
            "Train Epoch: 3 [17920/60000 (30%)]\tLoss: 0.403653\n",
            "Train Epoch: 3 [18560/60000 (31%)]\tLoss: 0.373171\n",
            "Train Epoch: 3 [19200/60000 (32%)]\tLoss: 0.278463\n",
            "Train Epoch: 3 [19840/60000 (33%)]\tLoss: 0.118625\n",
            "Train Epoch: 3 [20480/60000 (34%)]\tLoss: 0.347860\n",
            "Train Epoch: 3 [21120/60000 (35%)]\tLoss: 0.436163\n",
            "Train Epoch: 3 [21760/60000 (36%)]\tLoss: 0.310505\n",
            "Train Epoch: 3 [22400/60000 (37%)]\tLoss: 0.370894\n",
            "Train Epoch: 3 [23040/60000 (38%)]\tLoss: 0.394248\n",
            "Train Epoch: 3 [23680/60000 (39%)]\tLoss: 0.369628\n",
            "Train Epoch: 3 [24320/60000 (41%)]\tLoss: 0.371298\n",
            "Train Epoch: 3 [24960/60000 (42%)]\tLoss: 0.237810\n",
            "Train Epoch: 3 [25600/60000 (43%)]\tLoss: 0.163924\n",
            "Train Epoch: 3 [26240/60000 (44%)]\tLoss: 0.416755\n",
            "Train Epoch: 3 [26880/60000 (45%)]\tLoss: 0.486331\n",
            "Train Epoch: 3 [27520/60000 (46%)]\tLoss: 0.144823\n",
            "Train Epoch: 3 [28160/60000 (47%)]\tLoss: 0.363479\n",
            "Train Epoch: 3 [28800/60000 (48%)]\tLoss: 0.209495\n",
            "Train Epoch: 3 [29440/60000 (49%)]\tLoss: 0.305571\n",
            "Train Epoch: 3 [30080/60000 (50%)]\tLoss: 0.230468\n",
            "Train Epoch: 3 [30720/60000 (51%)]\tLoss: 0.312916\n",
            "Train Epoch: 3 [31360/60000 (52%)]\tLoss: 0.153025\n",
            "Train Epoch: 3 [32000/60000 (53%)]\tLoss: 0.197914\n",
            "Train Epoch: 3 [32640/60000 (54%)]\tLoss: 0.312900\n",
            "Train Epoch: 3 [33280/60000 (55%)]\tLoss: 0.345323\n",
            "Train Epoch: 3 [33920/60000 (57%)]\tLoss: 0.262780\n",
            "Train Epoch: 3 [34560/60000 (58%)]\tLoss: 0.168618\n",
            "Train Epoch: 3 [35200/60000 (59%)]\tLoss: 0.235231\n",
            "Train Epoch: 3 [35840/60000 (60%)]\tLoss: 0.274379\n",
            "Train Epoch: 3 [36480/60000 (61%)]\tLoss: 0.078521\n",
            "Train Epoch: 3 [37120/60000 (62%)]\tLoss: 0.276648\n",
            "Train Epoch: 3 [37760/60000 (63%)]\tLoss: 0.192639\n",
            "Train Epoch: 3 [38400/60000 (64%)]\tLoss: 0.293459\n",
            "Train Epoch: 3 [39040/60000 (65%)]\tLoss: 0.204838\n",
            "Train Epoch: 3 [39680/60000 (66%)]\tLoss: 0.325979\n",
            "Train Epoch: 3 [40320/60000 (67%)]\tLoss: 0.243651\n",
            "Train Epoch: 3 [40960/60000 (68%)]\tLoss: 0.290064\n",
            "Train Epoch: 3 [41600/60000 (69%)]\tLoss: 0.460144\n",
            "Train Epoch: 3 [42240/60000 (70%)]\tLoss: 0.185303\n",
            "Train Epoch: 3 [42880/60000 (71%)]\tLoss: 0.229187\n",
            "Train Epoch: 3 [43520/60000 (72%)]\tLoss: 0.171014\n",
            "Train Epoch: 3 [44160/60000 (74%)]\tLoss: 0.549688\n",
            "Train Epoch: 3 [44800/60000 (75%)]\tLoss: 0.428054\n",
            "Train Epoch: 3 [45440/60000 (76%)]\tLoss: 0.367605\n",
            "Train Epoch: 3 [46080/60000 (77%)]\tLoss: 0.474171\n",
            "Train Epoch: 3 [46720/60000 (78%)]\tLoss: 0.184851\n",
            "Train Epoch: 3 [47360/60000 (79%)]\tLoss: 0.159451\n",
            "Train Epoch: 3 [48000/60000 (80%)]\tLoss: 0.412372\n",
            "Train Epoch: 3 [48640/60000 (81%)]\tLoss: 0.332321\n",
            "Train Epoch: 3 [49280/60000 (82%)]\tLoss: 0.306222\n",
            "Train Epoch: 3 [49920/60000 (83%)]\tLoss: 0.234746\n",
            "Train Epoch: 3 [50560/60000 (84%)]\tLoss: 0.219844\n",
            "Train Epoch: 3 [51200/60000 (85%)]\tLoss: 0.133399\n",
            "Train Epoch: 3 [51840/60000 (86%)]\tLoss: 0.286544\n",
            "Train Epoch: 3 [52480/60000 (87%)]\tLoss: 0.235566\n",
            "Train Epoch: 3 [53120/60000 (88%)]\tLoss: 0.514776\n",
            "Train Epoch: 3 [53760/60000 (90%)]\tLoss: 0.405629\n",
            "Train Epoch: 3 [54400/60000 (91%)]\tLoss: 0.493732\n",
            "Train Epoch: 3 [55040/60000 (92%)]\tLoss: 0.297792\n",
            "Train Epoch: 3 [55680/60000 (93%)]\tLoss: 0.245838\n",
            "Train Epoch: 3 [56320/60000 (94%)]\tLoss: 0.234757\n",
            "Train Epoch: 3 [56960/60000 (95%)]\tLoss: 0.411790\n",
            "Train Epoch: 3 [57600/60000 (96%)]\tLoss: 0.383164\n",
            "Train Epoch: 3 [58240/60000 (97%)]\tLoss: 0.538534\n",
            "Train Epoch: 3 [58880/60000 (98%)]\tLoss: 0.205984\n",
            "Train Epoch: 3 [59520/60000 (99%)]\tLoss: 0.187222\n",
            "\n",
            "Test set: Avg. loss: 0.0949, Accuracy: 9700/10000 (97%)\n",
            "\n"
          ]
        }
      ]
    },
    {
      "cell_type": "code",
      "source": [],
      "metadata": {
        "id": "OrTbTXVCa2LE"
      },
      "execution_count": null,
      "outputs": []
    }
  ]
}